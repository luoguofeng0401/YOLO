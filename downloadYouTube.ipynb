{
 "cells": [
  {
   "cell_type": "code",
   "execution_count": 1,
   "metadata": {},
   "outputs": [],
   "source": [
    "import tkinter as tk\n",
    "from pytube import YouTube\n",
    "import tkinter.messagebox\n",
    "\n",
    "def clickUrl():\n",
    "    labelMsg.config(text='')\n",
    "    if(url.get()==''):\n",
    "        tk.messagebox.showinfo(title='錯誤訊息', message='網址欄位必須輸入!')\n",
    "    elif(path.get()==''):\n",
    "        tk.messagebox.showinfo(title='錯誤訊息', message='存檔路徑必須輸入!')\n",
    "    else:\n",
    "        try:\n",
    "            yt = YouTube(url.get())\n",
    "            stream = yt.streams.filter(file_extension='mp4', res='360p').first()\n",
    "            stream.download(path.get())\n",
    "        except:\n",
    "            labelMsg.config(text='找不到此YouTube影片', font=('DFKai-SB'))\n",
    "\n",
    "win=tk.Tk()\n",
    "win.geometry('500x150')  #設置主視窗解析度\n",
    "win.title('下載YouTube影片')\n",
    "\n",
    "url=tk.StringVar()#影片網址\n",
    "path=tk.StringVar()#存檔資料夾\n",
    "\n",
    "framel=tk.Frame(win,width=450)\n",
    "framel.pack()\n",
    "label1=tk.Label(framel,text='YouTube網址:', font=('DFKai-SB'))\n",
    "entryUrl=tk.Entry(framel,textvariable=url)\n",
    "entryUrl.config(width=40)\n",
    "label1.grid(row=0,column=0,sticky='e')\n",
    "entryUrl.grid(row=0,column=1)\n",
    "\n",
    "label2=tk.Label(framel,text='存檔路徑', font=('DFKai-SB'))\n",
    "entryPath=tk.Entry(framel,textvariable=path)\n",
    "entryPath.config(width=40)\n",
    "label2.grid(row=1,column=0,pady=6,sticky='e')\n",
    "entryPath.grid(row=1,column=1)\n",
    "\n",
    "frame2=tk.Frame(win)\n",
    "frame2.pack()\n",
    "btnDown=tk.Button(frame2,text='下載影片',command=clickUrl, font=('DFKai-SB'))\n",
    "btnDown.pack(pady=6)\n",
    "\n",
    "labelMsg=tk.Label(win,text='',fg='red')#訊息標籤\n",
    "labelMsg.pack()\n",
    "\n",
    "win.mainloop()"
   ]
  },
  {
   "cell_type": "code",
   "execution_count": null,
   "metadata": {},
   "outputs": [],
   "source": []
  }
 ],
 "metadata": {
  "kernelspec": {
   "display_name": "Python 3",
   "language": "python",
   "name": "python3"
  },
  "language_info": {
   "codemirror_mode": {
    "name": "ipython",
    "version": 3
   },
   "file_extension": ".py",
   "mimetype": "text/x-python",
   "name": "python",
   "nbconvert_exporter": "python",
   "pygments_lexer": "ipython3",
   "version": "3.6.7"
  }
 },
 "nbformat": 4,
 "nbformat_minor": 2
}
